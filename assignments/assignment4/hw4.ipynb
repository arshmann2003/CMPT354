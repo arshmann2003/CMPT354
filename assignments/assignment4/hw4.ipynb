{
 "cells": [
  {
   "cell_type": "markdown",
   "metadata": {},
   "source": [
    "# HW4. Indexes & Query Processing & Normalization"
   ]
  },
  {
   "cell_type": "markdown",
   "metadata": {},
   "source": [
    "## Objectives"
   ]
  },
  {
   "cell_type": "markdown",
   "metadata": {},
   "source": [
    "In this assignment, you will review what you have learned in the Normalization, Views and Indexes, and Query Processing Modules. In particular, you will practice:\n",
    "\n",
    "- How indexing can change query processing\n",
    "- How indexing changes query performance\n",
    "- How B-Trees store records\n",
    "- Query processing and optimization\n",
    "- How to construct BCNF and 3NF decomposition"
   ]
  },
  {
   "cell_type": "markdown",
   "metadata": {},
   "source": [
    "## Q1 (10 points): Indexing"
   ]
  },
  {
   "cell_type": "markdown",
   "metadata": {},
   "source": [
    "In this question, you will be asked to select suitable indexes to speed up query performance and examine the query plan of a SQL query.\n",
    "\n",
    "We are going to use a new database called flights.db. In the database, there is a single table, called FLIGHTS. The following shows its schema:\n",
    "\n",
    "    FLIGHTS(fid, year, month_id, day_of_month, day_of_week_id, \n",
    "            carrier_id, flight_num, origin_city, origin_state, \n",
    "            dest_city, dest_state, departure_delay, taxi_out, \n",
    "            arrival_delay, canceled, actual_time, distance)\n",
    "\n",
    "Note that this task only needs to use four attributes: `carrier_id`, `origin_city`, `actual_time`, and `dest_city`."
   ]
  },
  {
   "cell_type": "code",
   "execution_count": 2,
   "metadata": {},
   "outputs": [],
   "source": [
    "%load_ext sql"
   ]
  },
  {
   "cell_type": "code",
   "execution_count": 3,
   "metadata": {},
   "outputs": [
    {
     "data": {
      "text/plain": [
       "'Connected: @flight.db'"
      ]
     },
     "execution_count": 3,
     "metadata": {},
     "output_type": "execute_result"
    }
   ],
   "source": [
    "%sql sqlite:///flight.db"
   ]
  },
  {
   "cell_type": "markdown",
   "metadata": {},
   "source": [
    "Consider the following queries:\n",
    "\n",
    "```sqlite\n",
    "(a)  SELECT DISTINCT carrier_id\n",
    "     FROM Flights\n",
    "     WHERE origin_city = 'Seattle WA' AND actual_time <= 180;\n",
    "```\n",
    "\n",
    "\n",
    "```sqlite\n",
    "(b)  SELECT DISTINCT carrier_id\n",
    "     FROM Flights\n",
    "     WHERE origin_city = 'Gunnison CO' AND actual_time <= 180;\n",
    "```\n",
    "\n",
    "\n",
    "```sqlite\n",
    "(c)  SELECT DISTINCT carrier_id\n",
    "     FROM Flights\n",
    "     WHERE origin_city = 'Seattle WA' AND actual_time <= 30;\n",
    "```"
   ]
  },
  {
   "cell_type": "markdown",
   "metadata": {},
   "source": [
    "Choose one single simple index (index on one attribute) that is most likely to speed up all three queries. Write down the `CREATE INDEX` statement and explain why you chose that index below."
   ]
  },
  {
   "cell_type": "markdown",
   "metadata": {},
   "source": [
    "Q1.1. (1 point) What is the CREATE INDEX statement?"
   ]
  },
  {
   "cell_type": "code",
   "execution_count": 4,
   "metadata": {},
   "outputs": [
    {
     "name": "stdout",
     "output_type": "stream",
     "text": [
      " * sqlite:///flight.db\n",
      "(sqlite3.OperationalError) index idx_origin_city already exists\n",
      "[SQL: CREATE INDEX idx_origin_city ON FLIGHTS(origin_city);]\n",
      "(Background on this error at: https://sqlalche.me/e/14/e3q8)\n"
     ]
    }
   ],
   "source": [
    "%%sql\n",
    "CREATE INDEX idx_origin_city ON FLIGHTS(origin_city);"
   ]
  },
  {
   "cell_type": "markdown",
   "metadata": {},
   "source": [
    "Q1.2. (1 point) Why did you choose the index? "
   ]
  },
  {
   "cell_type": "markdown",
   "metadata": {},
   "source": [
    "I chose the index using the attribute actual_time, because the data is then optimizaed for any querey later using this attribure. "
   ]
  },
  {
   "cell_type": "markdown",
   "metadata": {},
   "source": [
    "Open a command line shell and start the sqlite program. Connect to the provided flights.db, and check whether the FLIGHTS table has the index that you indicate above. If not, add this index to the FLIGHTS table. "
   ]
  },
  {
   "cell_type": "markdown",
   "metadata": {},
   "source": [
    "Q1.3. (0.5 point) Does the FLIGHTS table has the index that you indicate above?"
   ]
  },
  {
   "cell_type": "code",
   "execution_count": 5,
   "metadata": {},
   "outputs": [
    {
     "name": "stdout",
     "output_type": "stream",
     "text": [
      " * sqlite:///flight.db\n",
      "Done.\n"
     ]
    },
    {
     "data": {
      "text/html": [
       "<table>\n",
       "    <thead>\n",
       "        <tr>\n",
       "            <th>type</th>\n",
       "            <th>name</th>\n",
       "            <th>tbl_name</th>\n",
       "            <th>rootpage</th>\n",
       "            <th>sql</th>\n",
       "        </tr>\n",
       "    </thead>\n",
       "    <tbody>\n",
       "        <tr>\n",
       "            <td>index</td>\n",
       "            <td>sqlite_autoindex_FLIGHTS_1</td>\n",
       "            <td>FLIGHTS</td>\n",
       "            <td>33677</td>\n",
       "            <td>None</td>\n",
       "        </tr>\n",
       "        <tr>\n",
       "            <td>index</td>\n",
       "            <td>idx_origin_city</td>\n",
       "            <td>FLIGHTS</td>\n",
       "            <td>9748</td>\n",
       "            <td>CREATE INDEX idx_origin_city ON FLIGHTS(origin_city)</td>\n",
       "        </tr>\n",
       "        <tr>\n",
       "            <td>index</td>\n",
       "            <td>idx_dest_city</td>\n",
       "            <td>FLIGHTS</td>\n",
       "            <td>7472</td>\n",
       "            <td>CREATE INDEX idx_dest_city ON FLIGHTS(dest_city)</td>\n",
       "        </tr>\n",
       "    </tbody>\n",
       "</table>"
      ],
      "text/plain": [
       "[('index', 'sqlite_autoindex_FLIGHTS_1', 'FLIGHTS', 33677, None),\n",
       " ('index', 'idx_origin_city', 'FLIGHTS', 9748, 'CREATE INDEX idx_origin_city ON FLIGHTS(origin_city)'),\n",
       " ('index', 'idx_dest_city', 'FLIGHTS', 7472, 'CREATE INDEX idx_dest_city ON FLIGHTS(dest_city)')]"
      ]
     },
     "execution_count": 5,
     "metadata": {},
     "output_type": "execute_result"
    }
   ],
   "source": [
    "%%sql\n",
    "/*\n",
    "FLIGHTS table does in fact have the index from above named idx_origin_city\n",
    "*/\n",
    "\n",
    "SELECT * FROM sqlite_master WHERE type='index';"
   ]
  },
  {
   "cell_type": "markdown",
   "metadata": {},
   "source": [
    "Q1.4. (1.5 point) Please check whether each query used the index or not. \n",
    "\n",
    "**Hint:** you can use `EXPLAIN QUERY PLAN` to see the query plan of each query. Indicate for each query if it used the index or not. "
   ]
  },
  {
   "cell_type": "code",
   "execution_count": 6,
   "metadata": {},
   "outputs": [
    {
     "name": "stdout",
     "output_type": "stream",
     "text": [
      " * sqlite:///flight.db\n",
      "Done.\n"
     ]
    },
    {
     "data": {
      "text/html": [
       "<table>\n",
       "    <thead>\n",
       "        <tr>\n",
       "            <th>id</th>\n",
       "            <th>parent</th>\n",
       "            <th>notused</th>\n",
       "            <th>detail</th>\n",
       "        </tr>\n",
       "    </thead>\n",
       "    <tbody>\n",
       "        <tr>\n",
       "            <td>4</td>\n",
       "            <td>0</td>\n",
       "            <td>0</td>\n",
       "            <td>SEARCH Flights USING INDEX idx_origin_city (origin_city=?)</td>\n",
       "        </tr>\n",
       "        <tr>\n",
       "            <td>18</td>\n",
       "            <td>0</td>\n",
       "            <td>0</td>\n",
       "            <td>USE TEMP B-TREE FOR DISTINCT</td>\n",
       "        </tr>\n",
       "    </tbody>\n",
       "</table>"
      ],
      "text/plain": [
       "[(4, 0, 0, 'SEARCH Flights USING INDEX idx_origin_city (origin_city=?)'),\n",
       " (18, 0, 0, 'USE TEMP B-TREE FOR DISTINCT')]"
      ]
     },
     "execution_count": 6,
     "metadata": {},
     "output_type": "execute_result"
    }
   ],
   "source": [
    "%%sql\n",
    "/*\n",
    "The index is used by query A\n",
    "*/\n",
    "\n",
    "EXPLAIN QUERY PLAN\n",
    "SELECT DISTINCT carrier_id FROM Flights WHERE origin_city = 'Seattle WA' AND actual_time <= 30;"
   ]
  },
  {
   "cell_type": "code",
   "execution_count": 7,
   "metadata": {},
   "outputs": [
    {
     "name": "stdout",
     "output_type": "stream",
     "text": [
      " * sqlite:///flight.db\n",
      "Done.\n"
     ]
    },
    {
     "data": {
      "text/html": [
       "<table>\n",
       "    <thead>\n",
       "        <tr>\n",
       "            <th>id</th>\n",
       "            <th>parent</th>\n",
       "            <th>notused</th>\n",
       "            <th>detail</th>\n",
       "        </tr>\n",
       "    </thead>\n",
       "    <tbody>\n",
       "        <tr>\n",
       "            <td>4</td>\n",
       "            <td>0</td>\n",
       "            <td>0</td>\n",
       "            <td>SEARCH Flights USING INDEX idx_origin_city (origin_city=?)</td>\n",
       "        </tr>\n",
       "        <tr>\n",
       "            <td>18</td>\n",
       "            <td>0</td>\n",
       "            <td>0</td>\n",
       "            <td>USE TEMP B-TREE FOR DISTINCT</td>\n",
       "        </tr>\n",
       "    </tbody>\n",
       "</table>"
      ],
      "text/plain": [
       "[(4, 0, 0, 'SEARCH Flights USING INDEX idx_origin_city (origin_city=?)'),\n",
       " (18, 0, 0, 'USE TEMP B-TREE FOR DISTINCT')]"
      ]
     },
     "execution_count": 7,
     "metadata": {},
     "output_type": "execute_result"
    }
   ],
   "source": [
    "%%sql\n",
    "/*\n",
    "The index is used by query B\n",
    "*/\n",
    "\n",
    "EXPLAIN QUERY PLAN\n",
    "SELECT DISTINCT carrier_id FROM Flights WHERE origin_city = 'Gunnison CO' AND actual_time <= 180;"
   ]
  },
  {
   "cell_type": "code",
   "execution_count": 9,
   "metadata": {},
   "outputs": [
    {
     "name": "stdout",
     "output_type": "stream",
     "text": [
      " * sqlite:///flight.db\n",
      "Done.\n"
     ]
    },
    {
     "data": {
      "text/html": [
       "<table>\n",
       "    <thead>\n",
       "        <tr>\n",
       "            <th>id</th>\n",
       "            <th>parent</th>\n",
       "            <th>notused</th>\n",
       "            <th>detail</th>\n",
       "        </tr>\n",
       "    </thead>\n",
       "    <tbody>\n",
       "        <tr>\n",
       "            <td>4</td>\n",
       "            <td>0</td>\n",
       "            <td>0</td>\n",
       "            <td>SEARCH Flights USING INDEX idx_origin_city (origin_city=?)</td>\n",
       "        </tr>\n",
       "        <tr>\n",
       "            <td>18</td>\n",
       "            <td>0</td>\n",
       "            <td>0</td>\n",
       "            <td>USE TEMP B-TREE FOR DISTINCT</td>\n",
       "        </tr>\n",
       "    </tbody>\n",
       "</table>"
      ],
      "text/plain": [
       "[(4, 0, 0, 'SEARCH Flights USING INDEX idx_origin_city (origin_city=?)'),\n",
       " (18, 0, 0, 'USE TEMP B-TREE FOR DISTINCT')]"
      ]
     },
     "execution_count": 9,
     "metadata": {},
     "output_type": "execute_result"
    }
   ],
   "source": [
    "%%sql\n",
    "/*\n",
    "The index is used by query C\n",
    "*/\n",
    "\n",
    "EXPLAIN QUERY PLAN \n",
    "SELECT DISTINCT carrier_id FROM Flights WHERE origin_city = 'Seattle WA' AND actual_time <= 30;"
   ]
  },
  {
   "cell_type": "markdown",
   "metadata": {},
   "source": [
    "Now, consider this query:\n",
    "\n",
    "```sqlite\n",
    "(d) SELECT DISTINCT F2.origin_city\n",
    "     FROM Flights F1, Flights F2\n",
    "     WHERE F1.dest_city = F2.dest_city\n",
    "         AND F1.origin_city='Gunnison CO'\n",
    "         AND F1.actual_time <= 30;\n",
    "```"
   ]
  },
  {
   "cell_type": "markdown",
   "metadata": {},
   "source": [
    "Q1.5. (2 points) Choose one simple index (index on one attribute), different from the index for the question above, that is likely to speed up this query. Write down the `CREATE INDEX` statement."
   ]
  },
  {
   "cell_type": "code",
   "execution_count": 9,
   "metadata": {},
   "outputs": [
    {
     "name": "stdout",
     "output_type": "stream",
     "text": [
      " * sqlite:///flight.db\n",
      "Done.\n"
     ]
    },
    {
     "data": {
      "text/plain": [
       "[]"
      ]
     },
     "execution_count": 9,
     "metadata": {},
     "output_type": "execute_result"
    }
   ],
   "source": [
    "%%sql\n",
    "CREATE INDEX idx_dest_city ON FLIGHTS(dest_city);"
   ]
  },
  {
   "cell_type": "markdown",
   "metadata": {},
   "source": [
    "Check whether the FLIGHTS table has this second index that you indicate above. If not, add this index to the FLIGHTS table. "
   ]
  },
  {
   "cell_type": "code",
   "execution_count": 13,
   "metadata": {},
   "outputs": [
    {
     "name": "stdout",
     "output_type": "stream",
     "text": [
      " * sqlite:///flight.db\n",
      "Done.\n"
     ]
    },
    {
     "data": {
      "text/html": [
       "<table>\n",
       "    <thead>\n",
       "        <tr>\n",
       "            <th>type</th>\n",
       "            <th>name</th>\n",
       "            <th>tbl_name</th>\n",
       "            <th>rootpage</th>\n",
       "            <th>sql</th>\n",
       "        </tr>\n",
       "    </thead>\n",
       "    <tbody>\n",
       "        <tr>\n",
       "            <td>index</td>\n",
       "            <td>sqlite_autoindex_FLIGHTS_1</td>\n",
       "            <td>FLIGHTS</td>\n",
       "            <td>33677</td>\n",
       "            <td>None</td>\n",
       "        </tr>\n",
       "        <tr>\n",
       "            <td>index</td>\n",
       "            <td>idx_origin_city</td>\n",
       "            <td>FLIGHTS</td>\n",
       "            <td>9748</td>\n",
       "            <td>CREATE INDEX idx_origin_city ON FLIGHTS(origin_city)</td>\n",
       "        </tr>\n",
       "        <tr>\n",
       "            <td>index</td>\n",
       "            <td>idx_dest_city</td>\n",
       "            <td>FLIGHTS</td>\n",
       "            <td>7472</td>\n",
       "            <td>CREATE INDEX idx_dest_city ON FLIGHTS(dest_city)</td>\n",
       "        </tr>\n",
       "    </tbody>\n",
       "</table>"
      ],
      "text/plain": [
       "[('index', 'sqlite_autoindex_FLIGHTS_1', 'FLIGHTS', 33677, None),\n",
       " ('index', 'idx_origin_city', 'FLIGHTS', 9748, 'CREATE INDEX idx_origin_city ON FLIGHTS(origin_city)'),\n",
       " ('index', 'idx_dest_city', 'FLIGHTS', 7472, 'CREATE INDEX idx_dest_city ON FLIGHTS(dest_city)')]"
      ]
     },
     "execution_count": 13,
     "metadata": {},
     "output_type": "execute_result"
    }
   ],
   "source": [
    "%%sql\n",
    "/*\n",
    "The FLIGHTS table does indeed have the second index named \"idx_dest_city\"\n",
    "*/\n",
    "\n",
    "SELECT * FROM sqlite_master WHERE type='index';"
   ]
  },
  {
   "cell_type": "markdown",
   "metadata": {},
   "source": [
    "Now we want to know how effective the two indexes are. We compare the runtimes of the queries with and without indexes. \n",
    "\n",
    "**Hint:** Use `timer on` on sqlite3 command line to turn SQL timer on."
   ]
  },
  {
   "cell_type": "markdown",
   "metadata": {},
   "source": [
    "Q1.6. (2 points) Execute queries (a) to (d) on the FLIGHTS table that do not have the two indexes. Please record the runtime of each query. "
   ]
  },
  {
   "cell_type": "markdown",
   "metadata": {},
   "source": [
    "a) 0.135s b) 0.120s c) 0.121s d) 0.126s"
   ]
  },
  {
   "cell_type": "markdown",
   "metadata": {},
   "source": [
    "Q1.7. (2 points) Execute queries (a) to (d) on the FLIGHTS table that has the two indexes. Please record the runtime of each query. "
   ]
  },
  {
   "cell_type": "markdown",
   "metadata": {},
   "source": [
    "a) 0.02s b) 0.00024s c) 0.022s d) 0.000215s"
   ]
  },
  {
   "cell_type": "markdown",
   "metadata": {},
   "source": [
    "## Q2 (6 points): B-Trees"
   ]
  },
  {
   "cell_type": "markdown",
   "metadata": {},
   "source": [
    "Assume:\n",
    "\n",
    "    (1) blocks can hold either 10 records or 99 keys and 100 pointers\n",
    "    (2) the average B-tree node is 70% full. This means it will have 69 keys and 70 pointers. \n",
    "\n",
    "We can use B-trees as part of several different structures. For each structure described in the questions Q2.1 to Q2.3 below, determine: \n",
    "\n",
    "    (a) the total number of blocks needed for a 1,000,000-record file\n",
    "    (b) the average number of disk I/O’s to retrieve a record given its search key\n",
    "\n",
    "You may assume nothing is in memory initially, and the search key is the primary key for the records."
   ]
  },
  {
   "cell_type": "markdown",
   "metadata": {},
   "source": [
    "Q2.1. (2 points) The data file is a sequential file, sorted on the search key, with 10 records per block. The B-tree is a dense index."
   ]
  },
  {
   "cell_type": "markdown",
   "metadata": {},
   "source": [
    "\n",
    "a) 1,000,000/10 = 100,000 for lowest level\n",
    "\n",
    "1,000,000/69 = 14,493 for leaf level\n",
    "\n",
    "14,493/70 = 208 for pre-leaf level\n",
    "\n",
    "208/70 = 3 for second level\n",
    "\n",
    "1 for the first level\n",
    "\n",
    "total number of blocks needed are 100,000+14,493+208+3+1 = 114,705\n",
    "\n",
    "b) The average number of disk I/O's to retrieve a record given its search key is 5, since the tree has 4 levels."
   ]
  },
  {
   "cell_type": "markdown",
   "metadata": {},
   "source": [
    "Q2.2. (2 points) The data file is a sequential file, sorted on the search key, with 10 records per block. The B-tree is a sparse index."
   ]
  },
  {
   "cell_type": "markdown",
   "metadata": {},
   "source": [
    "a) 1,000,000/10 = 100,000 to hold data file\n",
    "\n",
    "100,000/69 = 1450 to hold index file on leaf level\n",
    "\n",
    "1450/70 = 21 to hold index file on leaf level + 1\n",
    "\n",
    "21/70 = 1 to hold index file on level 1\n",
    "\n",
    "100000+1450+21+1 = 101,472 blocks\n",
    "\n",
    "b) since the tree has 4 levels, 5 disk reads are required."
   ]
  },
  {
   "cell_type": "markdown",
   "metadata": {},
   "source": [
    "Q2.3. (2 points) The data file consists of records in no particular order, packed 10 to a block. The B-tree is a dense index."
   ]
  },
  {
   "cell_type": "markdown",
   "metadata": {},
   "source": [
    "a) since the tree is still a dense index, this is the same problem as 2.1.\n",
    "Therefore there are 114,705 blocks neeeded.\n",
    "\n",
    "b) Levels of the tree are the same being 4 so 5 disk reads are required."
   ]
  },
  {
   "cell_type": "markdown",
   "metadata": {},
   "source": [
    "## Q3 (9 points): Query Processing"
   ]
  },
  {
   "cell_type": "markdown",
   "metadata": {},
   "source": [
    "In the first assignment, given the bank database below:\n",
    "\n",
    " - Customer = {<span style=\"text-decoration:underline\">customerID</span>, firstName, lastName, income, birthDate}\n",
    " - Account = {<span style=\"text-decoration:underline\">accNumber</span>, type, balance, branchNumber<sup>FK-Branch</sup>}\n",
    " - Owns = {<span style=\"text-decoration:underline\">customerID</span><sup>FK-Customer</sup>, <span style=\"text-decoration:underline\">accNumber</span><sup>FK-Account</sup>}\n",
    " - Transactions = {<span style=\"text-decoration:underline\">transNumber</span>, <span style=\"text-decoration:underline\">accNumber</span><sup>FK-Account</sup>, amount}\n",
    " - Employee = {<span style=\"text-decoration:underline\">sin</span>, firstName, lastName, salary, branchNumber<sup>FK-Branch</sup>}\n",
    " - Branch = {<span style=\"text-decoration:underline\">branchNumber</span>, branchName, managerSIN<sup>FK-Employee</sup>, budget}\n",
    "\n",
    "you wrote a SQL query to:\n",
    "\n",
    "Show account number, account type, account balance, and transaction amount of the accounts with balance higher than 100,000 and transaction amounts higher than 15000, starting with the accounts with the highest transaction amount and highest account balance. "
   ]
  },
  {
   "cell_type": "markdown",
   "metadata": {},
   "source": [
    "Q3.1. (3 points) Parse your query into a query parse tree."
   ]
  },
  {
   "cell_type": "markdown",
   "metadata": {
    "scrolled": true
   },
   "source": [
    " <img src=\"./3_one.jpg\" alt=\"If image does not load picture is attached under name 3_one.jpg\" />"
   ]
  },
  {
   "cell_type": "markdown",
   "metadata": {},
   "source": [
    "Q3.2. (3 points) Convert your parse tree to the equivalent relational algebraic representation (rewrite if necessary)."
   ]
  },
  {
   "cell_type": "markdown",
   "metadata": {},
   "source": [
    "<img src=\"./3_two.jpg\" alt=\"If image does not load picture is attached under name 3_two.jpg\" /> "
   ]
  },
  {
   "cell_type": "markdown",
   "metadata": {},
   "source": [
    "Q3.3. (3 points) Assume you have a million records in each of the six tables above. If you need, make necessary assumptions about your storage blocks, as well as about charactristics in the bank.db. Can you estimate the size and cost of the intermediate tables in your query plan?"
   ]
  },
  {
   "cell_type": "markdown",
   "metadata": {},
   "source": [
    "Assumptions:\n",
    "1. Data Types: Assuming integer data types for IDs and numeric data types for values (e.g., income, balance, salary, amount).\n",
    "2. Storage Block Size: Assuming a storage block size of 4 KB.\n",
    "3. Indexing: Assuming some primary keys and foreign keys are indexed for efficient joins.\n",
    "\n",
    "Size and Cost:\n",
    "1. Size of the Account and Transactions Tables:\n",
    "- Each record in the Account table could be around 40 bytes (assuming four integer columns and one character column on average).\n",
    "- Each record in the Transactions table could be around 24 bytes (assuming two integer columns and one numeric column).\n",
    "- Since there are a million records in each table, the size of each table would be approximately:\n",
    "- Account Table: 40 bytes/record * 1,000,000 records = 40,000,000 bytes (40 MB)\n",
    "- Transactions Table: 24 bytes/record * 1,000,000 records = 24,000,000 bytes (24 MB)\n",
    "\n",
    "2. Size of the Intermediate Table after Join:\n",
    "- The intermediate result of joining the Account and Transactions tables would include the columns: accNumber, type, balance, and amount.\n",
    "- Assuming that each of these columns is represented by an integer or a numeric data type, the size of each record in the intermediate table could be around 16 bytes (4 bytes each for four columns).\n",
    "- Since there are a million records in the intermediate table, the size of the intermediate result would be approximately:\n",
    "- Intermediate Table: 16 bytes/record * 1,000,000 records = 16,000,000 bytes (16 MB)\n",
    "\n",
    "3. Cost of the Query Plan:\n",
    "- The cost of the query plan depends on various factors, such as the database management system, hardware configuration, indexing, and query optimization.\n",
    "- The cost of the query is very similar to the size, so the cost is approximately 16,000,000 bytes (16 MB) aswell.\n"
   ]
  },
  {
   "cell_type": "markdown",
   "metadata": {},
   "source": [
    "## Q4 (10 points) Normalization"
   ]
  },
  {
   "cell_type": "markdown",
   "metadata": {},
   "source": [
    "Consider the schema over attributes A, B, C, D, E, F and the following set of FDs:\n",
    "\n",
    "EF → BC \n",
    "\n",
    "A → D \n",
    "\n",
    "B → AE \n",
    "\n",
    "BD → C\n"
   ]
  },
  {
   "cell_type": "markdown",
   "metadata": {},
   "source": [
    "Q4.1 (5 points) Find a lossless BCNF decomposition. Is it dependency-preserving?"
   ]
  },
  {
   "cell_type": "markdown",
   "metadata": {},
   "source": [
    " <img src=\"./4_one.jpg\" alt=\"If image does not load picture is attached under name 4_one.jpg\" />"
   ]
  },
  {
   "cell_type": "markdown",
   "metadata": {},
   "source": [
    "Q4.2 (5 points) Is the schema in 3NF? If not, apply the 3NF synthesis algorithm to obtain a lossless, dependency-\n",
    "preserving 3NF decomposition."
   ]
  },
  {
   "cell_type": "markdown",
   "metadata": {},
   "source": [
    "<img src=\"4_two.jpg\" alt=\"If image does not load picture is attached under name 4_two.jpg\" />"
   ]
  },
  {
   "cell_type": "markdown",
   "metadata": {},
   "source": [
    "## Submission"
   ]
  },
  {
   "cell_type": "markdown",
   "metadata": {},
   "source": [
    "Complete the answers to the questions in the [hw4.ipynb](hw4.ipynb) notebook and zip the notebook with additional image files that you may have used in a file named HW4.zip, and submit it through Canvas system to your Homework (4) activity."
   ]
  }
 ],
 "metadata": {
  "kernelspec": {
   "display_name": "Python 3 (ipykernel)",
   "language": "python",
   "name": "python3"
  },
  "language_info": {
   "codemirror_mode": {
    "name": "ipython",
    "version": 3
   },
   "file_extension": ".py",
   "mimetype": "text/x-python",
   "name": "python",
   "nbconvert_exporter": "python",
   "pygments_lexer": "ipython3",
   "version": "3.10.9"
  }
 },
 "nbformat": 4,
 "nbformat_minor": 2
}
