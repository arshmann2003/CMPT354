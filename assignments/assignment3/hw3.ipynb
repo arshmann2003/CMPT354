{
 "cells": [
  {
   "cell_type": "markdown",
   "metadata": {},
   "source": [
    "# HW3.  Database Design"
   ]
  },
  {
   "cell_type": "markdown",
   "metadata": {},
   "source": [
    "### Objectives\n",
    "In this assignment, You will practice:\n",
    "\n",
    "How to use Design Theory to refine a database you have designed.\n",
    "\n",
    "How to use Normalization Theory, in particular:\n",
    "\n",
    "* How to determine which Functional Dependencies (FDs) are implied.\n",
    "\n",
    "* How to determine which Inclusion Dependencies (INDs) are implied.\n",
    "\n",
    "* How to find all candidate keys and prime attributes of the schema.\n",
    "\n",
    "* How to determine whether a given schema is in BCNF.\n"
   ]
  },
  {
   "cell_type": "markdown",
   "metadata": {},
   "source": [
    "\n",
    "Useful resources for writing math in the jupyter notebook:\n",
    "\n",
    "https://towardsdatascience.com/write-markdown-latex-in-the-jupyter-notebook-10985edb91fd"
   ]
  },
  {
   "cell_type": "markdown",
   "metadata": {},
   "source": [
    "## Q1 (10 points) "
   ]
  },
  {
   "cell_type": "markdown",
   "metadata": {},
   "source": [
    "Imagine we want to build a music database with the following characteristics:\n",
    " - An **artist** is known by their name. We also keep an artist's *genre*, *hometown*, *bio*, and *homepage* in the database.\n",
    " - An **album** has an artist. It is produced by a *recording company*.\n",
    " - An album is known by *name* of the album and the *name* of its artist. We also keep *year*, *number of tracks* (at least one), and the *recording studio* for an album.\n",
    " - An album has songs on the album. \n",
    " - A **recording company** is known by its name. We also keep *address*, *homepage*, and *telephone number* for a *recording company*.\n",
    " - A **song** is known by its *name*, *name* of its artist, and the *album* it is part of. We also keep *length* and *track number* for the song. A song might have *guest musicians*. A song may have a *tablature*.\n",
    " - A **tablature** is known by the *URL*. We keep *date*, *transcriber*, and transcriber *email* for a tablature.\n",
    " - A **musician** is known by their *name*. A musician should have an *instrument*. We also keep *hometown* for a musician.\n",
    " - Musicians and an artist can be in a group.\n",
    " - Artists might influence a musician.\n",
    " \n",
    " Design the ERM to capture this database. Please note that you do not need to submit your ERM design, but you need to use it to answer following questions."
   ]
  },
  {
   "cell_type": "markdown",
   "metadata": {},
   "source": [
    "Q1.1 (3 points) Please list your schemas (not create table statements). Follow the style of the bank schema in HW2 for you answers. "
   ]
  },
  {
   "cell_type": "markdown",
   "metadata": {},
   "source": [
    "PK: Primary Key, FK: Foreign Key\n",
    "\n",
    "\n",
    "Schema for the Artist entity:\n",
    "Artist (ArtistID PK, Name, Genre, Hometown, Bio, Homepage)\n",
    "\n",
    "Schema for the Album entity:\n",
    "Album (AlbumID PK, Name, Year, NumberOfTracks, RecordingStudio, ArtistID FK, CompanyID FK)\n",
    "\n",
    "Schema for the RecordingCompany entity:\n",
    "RecordingCompany (CompanyID PK, Name, Address, Homepage, Telephone)\n",
    "\n",
    "Schema for the Song entity:\n",
    "Song (SongID PK, Name, Length, TrackNumber, AlbumID FK)\n",
    "\n",
    "Schema for the Tablature entity:\n",
    "Tablature (TablatureID PK, URL, Date, Transcriber, TranscriberEmail, SongID FK)\n",
    "\n",
    "Schema for the Musician entity:\n",
    "Musician (MusicianID PK, Name, Instrument, Hometown)\n",
    "\n",
    "Schema for the Group entity:\n",
    "Group (GroupID PK)\n",
    "\n",
    "Schema for the Influence entity:\n",
    "Influence (InfluenceID PK)"
   ]
  },
  {
   "cell_type": "markdown",
   "metadata": {},
   "source": [
    "Q1.2 (2 points) Ensure your relations in Q1.1 are in BCNF. Modify your answer for Q1.1 if necessary."
   ]
  },
  {
   "cell_type": "markdown",
   "metadata": {},
   "source": [
    "Schema for the Artist entity:\n",
    "Artist (ArtistID PK, Name, Genre, Hometown, Bio, Homepage)\n",
    "\n",
    "Schema for the Album entity:\n",
    "Album (AlbumID PK, Name, Year, NumberOfTracks, RecordingStudio, ArtistID FK)\n",
    "\n",
    "Schema for the RecordingCompany entity:\n",
    "RecordingCompany (CompanyID PK, Name, Address, Homepage, Telephone)\n",
    "\n",
    "Schema for the Song entity:\n",
    "Song (SongID PK, Name, Length, TrackNumber, AlbumID FK)\n",
    "\n",
    "Schema for the Tablature entity:\n",
    "Tablature (TablatureID PK, URL, Date, Transcriber, TranscriberEmail, SongID FK)\n",
    "\n",
    "Schema for the Musician entity:\n",
    "Musician (MusicianID PK, Name, Instrument, Hometown)\n",
    "\n",
    "Schema for the Group entity:\n",
    "Group (GroupID PK)\n",
    "\n",
    "Schema for the Influence entity:\n",
    "Influence (InfluenceID PK)"
   ]
  },
  {
   "cell_type": "markdown",
   "metadata": {},
   "source": [
    "Q1.3 (5 points) Please list the functional dependencies in your relations, based on your answer in Q1.2."
   ]
  },
  {
   "cell_type": "markdown",
   "metadata": {},
   "source": [
    "Functional dependencies in the Artist relation:\n",
    "ArtistID -> Name, Genre, Hometown, Bio, Homepage\n",
    "\n",
    "Functional dependencies in the Album relation:\n",
    "AlbumID -> Name, Year, NumberOfTracks, RecordingStudio, ArtistID\n",
    "\n",
    "Functional dependencies in the RecordingCompany relation:\n",
    "CompanyID -> Name, Address, Homepage, Telephone\n",
    "\n",
    "Functional dependencies in the Song relation:\n",
    "SongID -> Name, Length, TrackNumber, AlbumID\n",
    "\n",
    "Functional dependencies in the Tablature relation:\n",
    "TablatureID -> URL, Date, Transcriber, TranscriberEmail, SongID\n",
    "\n",
    "Functional dependencies in the Musician relation:\n",
    "MusicianID -> Name, Instrument, Hometown\n",
    "\n",
    "Functional dependencies in the Group relation:\n",
    "GroupID -> No additional functional dependencies\n",
    "\n",
    "Functional dependencies in the Influence relation:\n",
    "InfluenceID -> No additional functional dependencies"
   ]
  },
  {
   "cell_type": "markdown",
   "metadata": {},
   "source": [
    "## Q2 (12 points)"
   ]
  },
  {
   "cell_type": "markdown",
   "metadata": {},
   "source": [
    "Consider the following set of FDs:\n",
    "\n",
    "$D \\rightarrow AC$\n",
    "\n",
    "$AB \\rightarrow DE$\n",
    "\n",
    "$FD \\rightarrow E$\n",
    "\n",
    "$C \\rightarrow F$           "
   ]
  },
  {
   "cell_type": "markdown",
   "metadata": {},
   "source": [
    "Q2.1 (6 points) Determine whether each of the following FDs is implied by the FDs above:\n",
    "\n",
    " (a) $EF \\rightarrow BC$\n",
    " \n",
    " (b) $BC \\rightarrow BF$\n",
    " \n",
    " (c) $DEF \\rightarrow AB$\n",
    " \n",
    " (d) $DF \\rightarrow AE$\n",
    " \n",
    " (e) $CD \\rightarrow ED$\n",
    " \n",
    " (f) $DE \\rightarrow AF$"
   ]
  },
  {
   "cell_type": "markdown",
   "metadata": {},
   "source": [
    "\n",
    "a) $ \\{BC\\} \\not\\subseteq C_{\\sum}(EF) = EFC$, so $\\sum \\not\\models EF \\rightarrow BC$\n",
    "\n",
    "b) $ \\{BF\\} \\subseteq C_{\\sum}(BC) = BCF$, so $\\sum \\models BC \\rightarrow BF$\n",
    "\n",
    "c) $ \\{AB\\} \\not\\subseteq C_{\\sum}(DEF) = DEFAC$, so $\\sum \\not\\models DEF \\rightarrow AB$\n",
    "\n",
    "d) $ \\{AE\\} \\subseteq C_{\\sum}(DF) = ACDFE$, so $\\sum \\models DF \\rightarrow AE$\n",
    "\n",
    "e) $ \\{ED\\} \\subseteq C_{\\sum}(CD) = CDFAE$, so $\\sum \\models CD \\rightarrow ED$\n",
    "\n",
    "f) $ \\{AF\\} \\subseteq C_{\\sum}(DE) = DEACF$, so $\\sum \\models DE \\rightarrow AF$\n",
    "\n",
    "\n",
    "\n"
   ]
  },
  {
   "cell_type": "markdown",
   "metadata": {},
   "source": [
    "Q2.2 (6 points) For each of the FDs in Q2.1 that are implied, give a derivation\n",
    "    using the Armostrong's axioms."
   ]
  },
  {
   "cell_type": "markdown",
   "metadata": {},
   "source": [
    "\n",
    "b) 1. $C \\rightarrow F$ given in $\\Sigma $  \n",
    "\n",
    "2. $ BC \\rightarrow BF$ Augmentation on 1 $\\newline$\n",
    "\n",
    "d) 1. $ D \\rightarrow AC$ $\\quad$ given in $\\Sigma $ \n",
    "\n",
    "2. $ DF \\rightarrow ACF$ $\\quad$  Augmentation on 1\n",
    "\n",
    "3. $ FD \\rightarrow E$ $\\quad$ given in $\\Sigma $\n",
    "\n",
    "4. $ DF \\rightarrow ACFE$ $\\quad$ union on 2,3\n",
    "\n",
    "5. $ DF \\rightarrow AE$ $\\quad$ Decomposition on 4 $\\newline$\n",
    "\n",
    "e) 1. $ C \\rightarrow F$ $\\quad$ given in $\\Sigma $ \n",
    "\n",
    "2. $ CD \\rightarrow FD$ $\\quad$ Augmentation on 1\n",
    "\n",
    "3. $ FD \\rightarrow E$ $\\quad$ given in $\\Sigma $\n",
    "\n",
    "4. $ CD \\rightarrow E$ $\\quad$ Transitivity on 2,3\n",
    "\n",
    "5. $ CD \\rightarrow ED$ $\\quad$ Augmentation on 4\n",
    "\n",
    "f) 1. $ DF \\rightarrow E$ $\\quad$ given in $\\Sigma $ \n",
    "\n",
    "2. $DF \\rightarrow DE$ $\\quad$ Augmentation on 1 \n",
    "\n",
    "3. $ D \\rightarrow AC$ $\\quad$ given in $\\Sigma $ \n",
    "\n",
    "4. $ DE \\rightarrow ACE$ $\\quad$ Augmentation on 3 \n",
    "\n",
    "5. $ DF \\rightarrow ACE$ $\\quad$ Transitivity on 2,4\n",
    "\n",
    "6. $ DF \\rightarrow AE$ $\\quad$ Decomposition on 5 \n",
    "\n",
    "\n",
    "\n",
    "\n"
   ]
  },
  {
   "cell_type": "markdown",
   "metadata": {},
   "source": [
    "## Q3 (4 points)"
   ]
  },
  {
   "cell_type": "markdown",
   "metadata": {},
   "source": [
    "Let $R$, $S$ and $T$ be relations on attributes $A,B,C$. Given the following\n",
    "  set of INDs:\n",
    "  \n",
    "   $R[A,B] \\subseteq S[B,C] $\n",
    "   \n",
    "   $ S[B,C] \\subseteq T[C,A]$\n",
    "   \n",
    "  Determine which of the following INDs are implied:  \n",
    "  (a) $R[C] \\subseteq T[C]$\n",
    "  \n",
    "  (b) $R[B] \\subseteq T[C]$\n",
    "  \n",
    "  (c)$R[A] \\subseteq T[C]$\n",
    "  \n",
    "  (d) $R[C] \\subseteq T[A]$\n",
    "  "
   ]
  },
  {
   "cell_type": "markdown",
   "metadata": {},
   "source": [
    "a) Not implied because R[C] ⊆ T[C] can't be derived.\n",
    "    \n",
    "b) Not implied because R[B] ⊆ T[C] can't be implied from the set.\n",
    "\n",
    "c) 1 R[A,B] ⊆ T[C,A]  Transivity on 2 given statments.\n",
    "\n",
    "    R[A] ⊆ T[C]   Projection on 1\n",
    "    \n",
    "d) Not implied because R[C] ⊆ T[A] can't be implied from the set.\n",
    "  \n",
    "    "
   ]
  },
  {
   "cell_type": "markdown",
   "metadata": {},
   "source": [
    "## Q4  (10 points)"
   ]
  },
  {
   "cell_type": "markdown",
   "metadata": {},
   "source": [
    "Consider the schema over attributes $A,B,C,D,E,F$ and the following set of FDs:\n",
    "\n",
    "$EF \\rightarrow BC $\n",
    "\n",
    "$A \\rightarrow D $\n",
    "\n",
    "$B \\rightarrow AE $\n",
    "\n",
    "$BD \\rightarrow C$\n"
   ]
  },
  {
   "cell_type": "markdown",
   "metadata": {},
   "source": [
    "Q4.1 (6 points) Find all candidate keys and prime attributes of the schema."
   ]
  },
  {
   "cell_type": "markdown",
   "metadata": {},
   "source": [
    "Every key requires F as it is not on the r.h.s of any FD (Check Combos). \n",
    "\n",
    "$C_{\\sum}(F) = F$, F not a key\n",
    "\n",
    "$C_{\\sum}(AF) = AFD$, AF not a key\n",
    "\n",
    "$C_{\\sum}(BF) = BFAEDC,$ BF is a candidate key\n",
    "\n",
    "$C_{\\sum}(CF) = CF$,  CF is not a key\n",
    "\n",
    "$C_{\\sum}(DF) = DF$, DF not a key\n",
    "\n",
    "$C_{\\sum}(EF) = EFBCAD$, EF is a candidate key\n",
    "\n",
    "\n",
    "Exstension of not keys from above:\n",
    "\n",
    "$C_{\\sum}(ACF) = ACFD$, ACF not a key\n",
    "\n",
    "$C_{\\sum}(CDF) = CDF$, CDF not a key\n",
    "\n",
    "$C_{\\sum}(ADF) = ADF$, ADF not a key\n",
    "\n",
    "Exstensions of not key from above without B or E since they are candidate keys and having them would be non minimal thus violating rule:\n",
    "\n",
    "$C_{\\sum}(ACDF) = ACDF$, ACDF not key\n",
    "\n",
    "Therefore, BF, EF are the candidate keys\n",
    "\n",
    "prime attributes: B, E, F"
   ]
  },
  {
   "cell_type": "markdown",
   "metadata": {},
   "source": [
    "Q4.2 (4 points) Is the schema in BCNF? Justify your answer."
   ]
  },
  {
   "cell_type": "markdown",
   "metadata": {},
   "source": [
    "This schema is not in BCNF because the FDs are non-trivial. \n",
    "\n",
    "From the previous question, any set that does not include BF or EF is not a key. \n",
    "\n",
    "Therefore, the BCNF is violated by the set of FDs {A->D, B->AE, BD->C}"
   ]
  },
  {
   "cell_type": "markdown",
   "metadata": {},
   "source": [
    "## Submission"
   ]
  },
  {
   "cell_type": "markdown",
   "metadata": {},
   "source": [
    "Complete the code in this notebook [hw3.ipynb](hw3.ipynb) and submit it to the Canvas activity Homework(3). Please note than you can insert additional cells if required for your answers."
   ]
  }
 ],
 "metadata": {
  "kernelspec": {
   "display_name": "Python 3 (ipykernel)",
   "language": "python",
   "name": "python3"
  },
  "language_info": {
   "codemirror_mode": {
    "name": "ipython",
    "version": 3
   },
   "file_extension": ".py",
   "mimetype": "text/x-python",
   "name": "python",
   "nbconvert_exporter": "python",
   "pygments_lexer": "ipython3",
   "version": "3.10.9"
  }
 },
 "nbformat": 4,
 "nbformat_minor": 2
}
